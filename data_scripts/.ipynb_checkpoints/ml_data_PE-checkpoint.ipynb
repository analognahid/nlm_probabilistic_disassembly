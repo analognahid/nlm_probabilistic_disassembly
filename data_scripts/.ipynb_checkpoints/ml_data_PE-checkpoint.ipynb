{
 "cells": [
  {
   "cell_type": "code",
   "execution_count": 1,
   "id": "0a994e3c-4bb4-4196-840d-3c78c182596e",
   "metadata": {},
   "outputs": [],
   "source": [
    "import os,sys, json\n",
    "import magic, hashlib, os, traceback\n",
    "import ntpath\n",
    "from capstone import *\n",
    "from capstone.x86 import *\n",
    "\n",
    "import collections\n",
    "import traceback\n",
    "import lief"
   ]
  },
  {
   "cell_type": "code",
   "execution_count": 2,
   "id": "f654b05f-145b-405f-b917-6bd69545e2ac",
   "metadata": {},
   "outputs": [],
   "source": [
    "bin_path = '/home/raisul/DATA/x86_pe_msvc_sample' #'/home/raisul/DATA/x86_O2_d4_mingw32_PE' \n",
    "\n",
    "bin_files = [os.path.join(bin_path, f) for f in os.listdir(bin_path) ][0:5]\n",
    "\n",
    "ground_truth_path ='/home/raisul/ANALYSED_DATA/ghidra_x86_pe_msvc/' # '/home/raisul/ANALYSED_DATA/ghidra_x86_O2_d4_mingw32_PE'  "
   ]
  },
  {
   "cell_type": "code",
   "execution_count": 3,
   "id": "dd0acbc1-ce7c-4468-a899-46b9641d8ca5",
   "metadata": {},
   "outputs": [
    {
     "data": {
      "text/plain": [
       "73"
      ]
     },
     "execution_count": 3,
     "metadata": {},
     "output_type": "execute_result"
    }
   ],
   "source": [
    "len(bin_files)"
   ]
  },
  {
   "cell_type": "code",
   "execution_count": 4,
   "id": "8d01dfce-edb1-4a0a-a0a8-fbaf3fac12cc",
   "metadata": {},
   "outputs": [],
   "source": [
    "\n",
    "def get_ground_truth_ghidra(exe_path, text_section_offset , text_section_len):\n",
    "\n",
    "    text_sextion_end = text_section_offset + text_section_len\n",
    "    \n",
    "    elf_file_name = os.path.basename(exe_path)\n",
    "    ghidra_file_path = os.path.join(ground_truth_path, elf_file_name.split('.')[0]) + '.json'\n",
    "    \n",
    "    with open(ghidra_file_path, \"r\") as file:\n",
    "        ghidra_data = json.load(file)\n",
    "\n",
    "    ground_truth_offsets = list(ghidra_data.keys())\n",
    "\n",
    "    ground_truth_offsets = [int(i) for i in ground_truth_offsets]\n",
    "    ground_truth_offsets = [x for x in ground_truth_offsets if text_section_offset <= x <= text_sextion_end]\n",
    "    ground_truth_offsets.sort()\n",
    "    return ground_truth_offsets\n",
    "\n",
    "\n",
    "\n",
    "def get_ground_truth_objdump(exe_path, text_section_offset , text_section_len ):\n",
    "\n",
    "    text_sextion_end = text_section_offset + text_section_len\n",
    "    \n",
    "    elf_file_name = os.path.basename(exe_path)\n",
    "    objdump_file_path = os.path.join(ground_truth_path, elf_file_name.split('.')[0]) + '.json'\n",
    "    \n",
    "    with open(objdump_file_path, \"r\") as file:\n",
    "        objdump_data = json.load(file)\n",
    "\n",
    "    ground_truth_offsets = list(objdump_data[\"instructions\"].keys())\n",
    "    # print(ground_truth_offsets)\n",
    "    if 'meta' in ground_truth_offsets:\n",
    "        ground_truth_offsets.remove('meta')\n",
    "    ground_truth_offsets = [int(i) for i in ground_truth_offsets]\n",
    "    ground_truth_offsets = [x for x in ground_truth_offsets if text_section_offset <= x <= text_sextion_end]\n",
    "    ground_truth_offsets.sort()\n",
    "\n",
    "    \n",
    "    return ground_truth_offsets"
   ]
  },
  {
   "cell_type": "code",
   "execution_count": 5,
   "id": "1c2f8ec7-72bd-4fd8-aef3-90ef4e0fcaa1",
   "metadata": {},
   "outputs": [
    {
     "name": "stdout",
     "output_type": "stream",
     "text": [
      "An error occurred: 'NoneType' object has no attribute 'get_section' /\n"
     ]
    },
    {
     "name": "stderr",
     "output_type": "stream",
     "text": [
      "Unknown format\n"
     ]
    },
    {
     "ename": "NameError",
     "evalue": "name 'textSection' is not defined",
     "output_type": "error",
     "traceback": [
      "\u001b[0;31m---------------------------------------------------------------------------\u001b[0m",
      "\u001b[0;31mNameError\u001b[0m                                 Traceback (most recent call last)",
      "Cell \u001b[0;32mIn[5], line 91\u001b[0m\n\u001b[1;32m     89\u001b[0m \u001b[38;5;28;01mexcept\u001b[39;00m \u001b[38;5;167;01mException\u001b[39;00m \u001b[38;5;28;01mas\u001b[39;00m e:\n\u001b[1;32m     90\u001b[0m     \u001b[38;5;28mprint\u001b[39m(\u001b[38;5;124m\"\u001b[39m\u001b[38;5;124mAn error occurred:\u001b[39m\u001b[38;5;124m\"\u001b[39m, e ,bin_file_path)\n\u001b[0;32m---> 91\u001b[0m \u001b[38;5;28;01mfor\u001b[39;00m byte_index \u001b[38;5;129;01min\u001b[39;00m \u001b[38;5;28mrange\u001b[39m(\u001b[38;5;28mlen\u001b[39m(\u001b[43mtextSection\u001b[49m)):\n\u001b[1;32m     94\u001b[0m     \u001b[38;5;28;01mtry\u001b[39;00m:    \n\u001b[1;32m     96\u001b[0m         instruction \u001b[38;5;241m=\u001b[39m \u001b[38;5;28mnext\u001b[39m(md\u001b[38;5;241m.\u001b[39mdisasm(textSection[byte_index: byte_index\u001b[38;5;241m+\u001b[39m\u001b[38;5;241m15\u001b[39m ], text_section_offset \u001b[38;5;241m+\u001b[39m byte_index ), \u001b[38;5;28;01mNone\u001b[39;00m)\n",
      "\u001b[0;31mNameError\u001b[0m: name 'textSection' is not defined"
     ]
    }
   ],
   "source": [
    "\n",
    "\n",
    "\n",
    "def find_data_in_textsection(ground_truth_offsets , text_section_offset , text_section_len, offset_inst_dict):\n",
    "\n",
    "    # print('dbug 1',ground_truth_offsets)\n",
    "    for i in range(1, len(ground_truth_offsets)):\n",
    "        gap = ground_truth_offsets[i] - ground_truth_offsets[i-1]\n",
    "\n",
    "        inst_len = offset_inst_dict[ground_truth_offsets[i-1]].size \n",
    "        \n",
    "        if gap!=inst_len:\n",
    "            print('offset_ranges[i]: ',ground_truth_offsets[i] , 'offset_ranges[i-1]: ',ground_truth_offsets[i-1], ' inst_len: ',inst_len  ) \n",
    "        else:\n",
    "            print('hi')\n",
    "            \n",
    "\n",
    "\n",
    "def linear_sweep(offset_inst , target_offset):\n",
    "    inst_sequence = []\n",
    "    max_seq_length = 15\n",
    "\n",
    "    \n",
    "    current_offset = target_offset\n",
    "    for q in range(max_seq_length):\n",
    "\n",
    "        if current_offset in offset_inst: #if end of text section\n",
    "            current_instruction = offset_inst[current_offset]\n",
    "            if current_instruction is None:\n",
    "\n",
    "                inst_sequence.insert(0, None) \n",
    "                inst_sequence.append(None)\n",
    "                return  inst_sequence\n",
    "                \n",
    "            current_offset = current_offset + current_instruction.size\n",
    "            inst_sequence.append( str(current_instruction.address) +\": \"+ current_instruction.mnemonic +' '+ current_instruction.op_str )\n",
    "            # inst_sequence.append( current_instruction)\n",
    "            if current_instruction.mnemonic in [\"ret\", \"jmp\"]: #break linear sweep\n",
    "                return inst_sequence\n",
    "\n",
    "    return inst_sequence\n",
    "\n",
    "\n",
    "for bin_file_path in bin_files:\n",
    "\n",
    "    # try:\n",
    "    #     ground_truth_offsets = get_ground_truth(bin_file_path, text_section_offset , len(textSection))\n",
    "    # except Exception as e:\n",
    "    #     print(\"An error occurred:\", e)\n",
    "    # print(ground_truth_offsets)\n",
    "    \n",
    "    \n",
    "    md = Cs(CS_ARCH_X86, CS_MODE_64)\n",
    "    md.detail = True\n",
    "    offset_inst = {}\n",
    "\n",
    "    # print(\"\\n\"*5)\n",
    "    \n",
    "\n",
    "    try:\n",
    "\n",
    "        # PE\n",
    "        pe_file = lief.parse(bin_file_path)\n",
    "        \n",
    "        # if rheader := pe.rich_header:\n",
    "        #     print(rheader.key)\n",
    "\n",
    "\n",
    "\n",
    "        # textSection = elffile.get_section_by_name('.text').data()\n",
    "        # text_section_offset = elffile.get_section_by_name('.text')['sh_offset']\n",
    "\n",
    "\n",
    "        text_section = pe_file.get_section(\".text\")\n",
    "\n",
    "\n",
    "        # Get the section's offset in the file\n",
    "        text_section_offset = text_section.pointerto_raw_data\n",
    "    \n",
    "        # Get the section's raw binary data\n",
    "        textSection = bytes(text_section.content)\n",
    "    \n",
    "\n",
    "\n",
    "\n",
    "        \n",
    "        ground_truth_offsets = get_ground_truth_ghidra(bin_file_path, text_section_offset , len(textSection))\n",
    "\n",
    "\n",
    "    \n",
    "        \n",
    "    except Exception as e:\n",
    "        print(\"An error occurred:\", e ,bin_file_path)\n",
    "    for byte_index in range(len(textSection)):\n",
    "        \n",
    "    \n",
    "        try:    \n",
    "\n",
    "            instruction = next(md.disasm(textSection[byte_index: byte_index+15 ], text_section_offset + byte_index ), None)\n",
    "            \n",
    "            # if instruction:\n",
    "            #     print(\"%d:\\t%s\\t%s _\\t%x\" %(int(instruction.address), instruction.mnemonic, instruction.op_str, instruction.size))\n",
    "            #     print(instruction.operands[0].type , instruction.operands[0].imm)\n",
    "            #     # print( dir(instruction.operands[0] ))\n",
    "      \n",
    "            # else:\n",
    "            #     print(\"%d:\\t%s \" % (text_section_offset + byte_index  , 'invalid instruction') )\n",
    "                \n",
    "            offset_inst[text_section_offset+byte_index] = instruction\n",
    "\n",
    "        except Exception as e:\n",
    "            print(traceback.print_exc() )\n",
    "            print(e)\n",
    "\n",
    "    \n",
    "    \n",
    "    offset_inst = collections.OrderedDict(sorted(offset_inst.items()))\n",
    "\n",
    "    find_data_in_textsection(ground_truth_offsets , text_section_offset , len(textSection) , offset_inst)\n",
    "    \n",
    "    # print(offset_inst)\n",
    "    for byte_index in range(len(textSection)):\n",
    "        inst_seq = linear_sweep(offset_inst ,text_section_offset + byte_index )\n",
    "        # print('\\n','# # '*10)\n",
    "        # print(inst_seq)\n",
    "    # print(ground_truth_offsets)\n",
    "    # print(offset_inst.keys())\n",
    "    print('\\n','# # '*30)\n"
   ]
  },
  {
   "cell_type": "code",
   "execution_count": null,
   "id": "86f20de2-3b09-45b9-9f71-08bd1302e61f",
   "metadata": {},
   "outputs": [],
   "source": [
    "print('test')"
   ]
  },
  {
   "cell_type": "code",
   "execution_count": null,
   "id": "c7fa81ca-66f4-4bd8-ad3e-aac8e4ea7d0b",
   "metadata": {},
   "outputs": [],
   "source": []
  }
 ],
 "metadata": {
  "kernelspec": {
   "display_name": "pytorch",
   "language": "python",
   "name": "pytorch"
  },
  "language_info": {
   "codemirror_mode": {
    "name": "ipython",
    "version": 3
   },
   "file_extension": ".py",
   "mimetype": "text/x-python",
   "name": "python",
   "nbconvert_exporter": "python",
   "pygments_lexer": "ipython3",
   "version": "3.12.6"
  }
 },
 "nbformat": 4,
 "nbformat_minor": 5
}
