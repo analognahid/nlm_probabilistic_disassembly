{
 "cells": [
  {
   "cell_type": "code",
   "execution_count": 5,
   "id": "bac8e2db-b6c0-46db-8f36-0b4082a366d4",
   "metadata": {},
   "outputs": [
    {
     "name": "stdout",
     "output_type": "stream",
     "text": [
      "\n",
      "/home/raisul/probabilistic_disassembly/objs/T1FFC08CC084888840663AA20C1F506040F608C00B06DCB914B43400133FB1001E3B2740.o:     file format elf64-x86-64\n",
      "\n",
      "\n",
      "Disassembly of section .text.startup:\n",
      "\n",
      "0000000000000000 <main>:\n",
      "   0:\tf3 0f 1e fa          \tendbr64\n",
      "   4:\t48 83 ec 08          \tsub    $0x8,%rsp\n",
      "   8:\tba 64 00 00 00       \tmov    $0x64,%edx\n",
      "   d:\tbf 02 00 00 00       \tmov    $0x2,%edi\n",
      "  12:\t31 c0                \txor    %eax,%eax\n",
      "  14:\t48 8d 35 00 00 00 00 \tlea    0x0(%rip),%rsi        # 1b <main+0x1b>\n",
      "  1b:\te8 00 00 00 00       \tcall   20 <main+0x20>\n",
      "  20:\t31 c0                \txor    %eax,%eax\n",
      "  22:\t48 83 c4 08          \tadd    $0x8,%rsp\n",
      "  26:\tc3                   \tret\n",
      "\n"
     ]
    }
   ],
   "source": [
    "import subprocess, os\n",
    "from os import listdir\n",
    "from os.path import isfile, join\n",
    "import  os, random\n",
    "\n",
    "def disassemble_elf(file_path, output_path=None):\n",
    "    \"\"\"\n",
    "    Disassembles an ELF object file using objdump.\n",
    "\n",
    "    :param file_path: Path to the ELF file to disassemble.\n",
    "    :param output_path: Optional path to save the disassembly output.\n",
    "    :return: Disassembly as a string (if output_path is not provided).\n",
    "    \"\"\"\n",
    "    try:\n",
    "        # Command to run objdump\n",
    "        command = [\"objdump\", \"-d\", file_path]\n",
    "        \n",
    "        # Run the command\n",
    "        result = subprocess.run(command, capture_output=True, text=True, check=True)\n",
    "        \n",
    "        if output_path:\n",
    "            # Write the disassembly to a file\n",
    "            with open(output_path, \"w\") as file:\n",
    "                file.write(result.stdout)\n",
    "            print(f\"Disassembly written to {output_path}\")\n",
    "        else:\n",
    "            # Return the disassembly as a string\n",
    "            return result.stdout\n",
    "\n",
    "    except FileNotFoundError:\n",
    "        print(\"Error: 'objdump' is not installed or not found in PATH.\")\n",
    "    except subprocess.CalledProcessError as e:\n",
    "        print(f\"Error: Failed to disassemble {file_path}. Details:\\n{e.stderr}\")\n",
    "\n",
    "\n",
    "\n",
    "\n",
    "BIN_PATH = '/home/raisul/probabilistic_disassembly/objs'\n",
    "\n",
    "filtered_files = [join(BIN_PATH, f) for f in listdir(BIN_PATH) if isfile(join(BIN_PATH, f))]\n",
    "random.shuffle(filtered_files)\n",
    "filtered_files = filtered_files [0:10]\n",
    "\n",
    "\n",
    "\n",
    "\n",
    "if __name__ == \"__main__\":\n",
    "\n",
    "    disassembly = disassemble_elf(filtered_files[0])\n",
    "    \n",
    "\n",
    "    print(disassembly)\n"
   ]
  },
  {
   "cell_type": "code",
   "execution_count": null,
   "id": "bf47f66a-2565-40dc-824f-39514838374c",
   "metadata": {},
   "outputs": [],
   "source": []
  }
 ],
 "metadata": {
  "kernelspec": {
   "display_name": "Python 3 (ipykernel)",
   "language": "python",
   "name": "python3"
  },
  "language_info": {
   "codemirror_mode": {
    "name": "ipython",
    "version": 3
   },
   "file_extension": ".py",
   "mimetype": "text/x-python",
   "name": "python",
   "nbconvert_exporter": "python",
   "pygments_lexer": "ipython3",
   "version": "3.12.2"
  }
 },
 "nbformat": 4,
 "nbformat_minor": 5
}
