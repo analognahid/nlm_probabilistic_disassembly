{
 "cells": [
  {
   "cell_type": "code",
   "execution_count": null,
   "id": "bbed5f46-9e0b-4584-8588-0c598297aec0",
   "metadata": {},
   "outputs": [],
   "source": [
    "import magic, hashlib, os, traceback\n",
    "import ntpath\n",
    "from capstone import *\n",
    "from capstone.x86 import *\n",
    "from capstone.arm import *\n",
    "import collections\n",
    "\n",
    "from elftools.elf.elffile import ELFFile"
   ]
  },
  {
   "cell_type": "code",
   "execution_count": null,
   "id": "5d550a56-8a10-4013-90fb-a5a313a153ed",
   "metadata": {},
   "outputs": [],
   "source": [
    "objs_dir_path = '/home/raisul/probabilistic_disassembly/objs'\n",
    "obj_files = [os.path.join(objs_dir_path, f) for f in os.listdir(objs_dir_path) ]\n",
    "\n",
    "obj_path = obj_files [0]\n",
    "\n",
    "\n",
    "fh = open(filePath, 'rb')\n",
    "bin_bytearray = bytearray(fh.read())\n",
    "\n",
    "address_inst = {}\n",
    "\n",
    "md = Cs(CS_ARCH_X86, CS_MODE_64)\n",
    "# md = Cs(CS_ARCH_ARM, CS_MODE_ARM)\n",
    "md.detail = True\n",
    "\n",
    "for addr in addr_list:\n",
    "    \n",
    "\n",
    "    ops = bin_bytearray[addr: ]\n",
    "\n",
    "    #TODO make efficient\n",
    "    for inst in md.disasm(ops, addr):\n",
    "        if inst.address<=max_address and inst.address>=min_address:\n",
    "            address_inst[inst.address] = inst\n",
    "        break\n",
    "        \n",
    "address_inst = collections.OrderedDict(sorted(address_inst.items()))\n",
    "return address_inst"
   ]
  }
 ],
 "metadata": {
  "kernelspec": {
   "display_name": "pytorch",
   "language": "python",
   "name": "pytorch"
  },
  "language_info": {
   "codemirror_mode": {
    "name": "ipython",
    "version": 3
   },
   "file_extension": ".py",
   "mimetype": "text/x-python",
   "name": "python",
   "nbconvert_exporter": "python",
   "pygments_lexer": "ipython3",
   "version": "3.12.6"
  }
 },
 "nbformat": 4,
 "nbformat_minor": 5
}
