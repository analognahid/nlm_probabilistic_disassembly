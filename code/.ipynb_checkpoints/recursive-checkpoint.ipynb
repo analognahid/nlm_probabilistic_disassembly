{
 "cells": [
  {
   "cell_type": "code",
   "execution_count": null,
   "id": "6a01422a-c783-4a95-b680-5e970fdf923d",
   "metadata": {},
   "outputs": [],
   "source": [
    ">>> from smda.Disassembler import Disassembler\n",
    ">>> disassembler = Disassembler()\n",
    ">>> report = disassembler.disassembleFile(\"/bin/cat\")\n",
    ">>> print(report)\n",
    " 0.777s -> (architecture: intel.64bit, base_addr: 0x00000000): 143 functions\n",
    ">>> for fn in report.getFunctions():\n",
    "...     print(fn)\n",
    "...     for ins in fn.getInstructions():\n",
    "...         print(ins)\n",
    "...\n",
    "0x00001720: (->   1,    1->)   3 blocks,    7 instructions.\n",
    "0x00001720: (      4883ec08) - sub rsp, 8\n",
    "0x00001724: (488b05bd682000) - mov rax, qword ptr [rip + 0x2068bd]\n",
    "0x0000172b: (        4885c0) - test rax, rax\n",
    "0x0000172e: (          7402) - je 0x1732\n",
    "0x00001730: (          ffd0) - call rax\n",
    "0x00001732: (      4883c408) - add rsp, 8\n",
    "0x00001736: (            c3) - ret \n",
    "0x00001ad0: (->   1,    4->)   1 blocks,   12 instructions.\n",
    "[...]\n",
    ">>> json_report = report.toDict()"
   ]
  }
 ],
 "metadata": {
  "kernelspec": {
   "display_name": "Python 3 (ipykernel)",
   "language": "python",
   "name": "python3"
  },
  "language_info": {
   "codemirror_mode": {
    "name": "ipython",
    "version": 3
   },
   "file_extension": ".py",
   "mimetype": "text/x-python",
   "name": "python",
   "nbconvert_exporter": "python",
   "pygments_lexer": "ipython3",
   "version": "3.12.2"
  }
 },
 "nbformat": 4,
 "nbformat_minor": 5
}
