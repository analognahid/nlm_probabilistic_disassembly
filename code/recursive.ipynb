{
 "cells": [
  {
   "cell_type": "code",
   "execution_count": 4,
   "id": "6a01422a-c783-4a95-b680-5e970fdf923d",
   "metadata": {},
   "outputs": [
    {
     "name": "stdout",
     "output_type": "stream",
     "text": [
      " 0.000s -> (architecture: intel.32bit, base_addr: 0x00000000): 0 functions\n"
     ]
    }
   ],
   "source": [
    "from smda.Disassembler import Disassembler\n",
    "disassembler = Disassembler()\n",
    "report = disassembler.disassembleFile(\"codeblob\")\n",
    "print(report)\n"
   ]
  },
  {
   "cell_type": "code",
   "execution_count": 8,
   "id": "a1d3acab-d0db-4470-9028-af0c17765c8e",
   "metadata": {},
   "outputs": [
    {
     "data": {
      "text/plain": [
       "['__class__',\n",
       " '__delattr__',\n",
       " '__dict__',\n",
       " '__dir__',\n",
       " '__doc__',\n",
       " '__eq__',\n",
       " '__format__',\n",
       " '__ge__',\n",
       " '__getattribute__',\n",
       " '__getstate__',\n",
       " '__gt__',\n",
       " '__hash__',\n",
       " '__init__',\n",
       " '__init_subclass__',\n",
       " '__le__',\n",
       " '__lt__',\n",
       " '__module__',\n",
       " '__ne__',\n",
       " '__new__',\n",
       " '__reduce__',\n",
       " '__reduce_ex__',\n",
       " '__repr__',\n",
       " '__setattr__',\n",
       " '__sizeof__',\n",
       " '__str__',\n",
       " '__subclasshook__',\n",
       " '__weakref__',\n",
       " '_convertCfg',\n",
       " '_has_codexrefs',\n",
       " '_packBuffer',\n",
       " '_unpackBuffer',\n",
       " 'architecture',\n",
       " 'base_addr',\n",
       " 'binary_size',\n",
       " 'binweight',\n",
       " 'bitness',\n",
       " 'block_locator',\n",
       " 'buffer',\n",
       " 'capstone',\n",
       " 'code_areas',\n",
       " 'code_sections',\n",
       " 'component',\n",
       " 'confidence_threshold',\n",
       " 'disassembly_errors',\n",
       " 'execution_time',\n",
       " 'family',\n",
       " 'filename',\n",
       " 'findBlockByContainedAddress',\n",
       " 'findFunctionByContainedAddress',\n",
       " 'fromDict',\n",
       " 'fromFile',\n",
       " 'getBuffer',\n",
       " 'getCapstone',\n",
       " 'getExportedFunctions',\n",
       " 'getFunction',\n",
       " 'getFunctions',\n",
       " 'getSection',\n",
       " 'identified_alignment',\n",
       " 'initCodeXrefs',\n",
       " 'isAddrWithinMemoryImage',\n",
       " 'is_buffer',\n",
       " 'is_library',\n",
       " 'md5',\n",
       " 'message',\n",
       " 'num_blocks',\n",
       " 'num_functions',\n",
       " 'num_instructions',\n",
       " 'oep',\n",
       " 'sha1',\n",
       " 'sha256',\n",
       " 'smda_version',\n",
       " 'statistics',\n",
       " 'status',\n",
       " 'timestamp',\n",
       " 'toDict',\n",
       " 'version',\n",
       " 'xcfg']"
      ]
     },
     "execution_count": 8,
     "metadata": {},
     "output_type": "execute_result"
    }
   ],
   "source": [
    "dir(report)\n"
   ]
  },
  {
   "cell_type": "code",
   "execution_count": 5,
   "id": "a6f8ba41-f0c9-4639-b19b-c736948a7f01",
   "metadata": {},
   "outputs": [],
   "source": [
    "\n",
    "\n",
    "for fn in report.getFunctions():\n",
    "    print(fn)\n",
    "    for ins in fn.getInstructions():\n",
    "        print(ins)\n",
    "\n"
   ]
  },
  {
   "cell_type": "code",
   "execution_count": 6,
   "id": "6d35154e-c704-47ce-8dc2-4b9fd169c591",
   "metadata": {},
   "outputs": [],
   "source": [
    "json_report = report.toDict()\n"
   ]
  },
  {
   "cell_type": "code",
   "execution_count": null,
   "id": "e504958b-465c-4f2b-852d-ad788890811d",
   "metadata": {},
   "outputs": [],
   "source": []
  }
 ],
 "metadata": {
  "kernelspec": {
   "display_name": "pytorch",
   "language": "python",
   "name": "pytorch"
  },
  "language_info": {
   "codemirror_mode": {
    "name": "ipython",
    "version": 3
   },
   "file_extension": ".py",
   "mimetype": "text/x-python",
   "name": "python",
   "nbconvert_exporter": "python",
   "pygments_lexer": "ipython3",
   "version": "3.12.6"
  }
 },
 "nbformat": 4,
 "nbformat_minor": 5
}
