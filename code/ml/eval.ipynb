{
 "cells": [
  {
   "cell_type": "code",
   "execution_count": 1,
   "id": "c2444b49-be7f-4b4b-bc6f-68582f5689fe",
   "metadata": {},
   "outputs": [
    {
     "name": "stdout",
     "output_type": "stream",
     "text": [
      "Loaded 11807 JSON files.\n"
     ]
    }
   ],
   "source": [
    "import os\n",
    "import json\n",
    "\n",
    "def load_all_json_files(folder_path):\n",
    "    \"\"\"\n",
    "    Load all JSON files from a directory into a list.\n",
    "\n",
    "    Args:\n",
    "        folder_path (str): Path to the folder containing JSON files.\n",
    "\n",
    "    Returns:\n",
    "        list: List of dictionaries, one per JSON file.\n",
    "    \"\"\"\n",
    "    all_results = []\n",
    "\n",
    "    for filename in os.listdir(folder_path):\n",
    "        if filename.endswith(\".json\"):\n",
    "            file_path = os.path.join(folder_path, filename)\n",
    "            try:\n",
    "                with open(file_path, 'r') as f:\n",
    "                    data = json.load(f)\n",
    "                    data[\"file\"] = filename  # Optional: add filename info\n",
    "                    all_results.append(data)\n",
    "            except Exception as e:\n",
    "                print(f\"Failed to load {filename}: {e}\")\n",
    "    \n",
    "    return all_results\n",
    "\n",
    "# Example usage\n",
    "if __name__ == \"__main__\":\n",
    "    folder = '/home/raisul/ANALYSED_DATA/prob_disasm_pe/'#\"/home/raisul/ANALYSED_DATA/prob_disasm_pe/\"  # Replace with your directory path\n",
    "    results = load_all_json_files(folder)\n",
    "    print(f\"Loaded {len(results)} JSON files.\")\n"
   ]
  },
  {
   "cell_type": "code",
   "execution_count": 2,
   "id": "a9358381-54a8-4250-bfa4-cc7bdb090bf7",
   "metadata": {},
   "outputs": [
    {
     "data": {
      "text/plain": [
       "{'prob_disasm_false_positive': 115,\n",
       " 'prob_disasm_false_negative': 8,\n",
       " 'prob_disasm_true_positive': 1336,\n",
       " 'prob_disasm_total': 1344,\n",
       " 'linear_sweep_false_positive': 13,\n",
       " 'linear_sweep_false_negative': 0,\n",
       " 'linear_sweep_true_positive': 1344,\n",
       " 'linear_sweep_total': 1344,\n",
       " 'file': '0717187c26eeedc114334baa13e5a6e9.exe.json'}"
      ]
     },
     "execution_count": 2,
     "metadata": {},
     "output_type": "execute_result"
    }
   ],
   "source": [
    "results[0]"
   ]
  },
  {
   "cell_type": "code",
   "execution_count": 3,
   "id": "b9a2d88e-e8cc-478c-bc70-7ee70228fecf",
   "metadata": {},
   "outputs": [
    {
     "name": "stdout",
     "output_type": "stream",
     "text": [
      "Found 1 files with linear_sweep_false_negative > 0:\n",
      "\n",
      "fee7ad3d8e6d7fce5e8441fd74229f04.exe.json: linear_sweep_false_negative = 1\n"
     ]
    }
   ],
   "source": [
    "# Filter results with linear_sweep_false_negative > 0\n",
    "ls_fn_gt_zero = [res for res in results if res.get(\"linear_sweep_false_negative\", 0) > 0]\n",
    "\n",
    "# Print summary\n",
    "print(f\"Found {len(ls_fn_gt_zero)} files with linear_sweep_false_negative > 0:\\n\")\n",
    "for res in ls_fn_gt_zero:\n",
    "    print(f\"{res['file']}: linear_sweep_false_negative = {res['linear_sweep_false_negative']}\")"
   ]
  },
  {
   "cell_type": "code",
   "execution_count": 4,
   "id": "04803368-f562-4117-8c34-1d7e58e0839a",
   "metadata": {},
   "outputs": [
    {
     "name": "stdout",
     "output_type": "stream",
     "text": [
      "Averages across all files:\n",
      "prob_disasm_false_positive: 118.59\n",
      "prob_disasm_false_negative: 12.45\n",
      "prob_disasm_true_positive: 1557.80\n",
      "prob_disasm_total: 1570.25\n",
      "linear_sweep_false_positive: 16.82\n",
      "linear_sweep_false_negative: 0.00\n",
      "linear_sweep_true_positive: 1570.25\n",
      "linear_sweep_total: 1570.25\n"
     ]
    }
   ],
   "source": [
    "# If you haven't already, load results\n",
    "# results = load_all_json_files(folder)\n",
    "\n",
    "# Initialize accumulators\n",
    "total = {\n",
    "    \"prob_disasm_false_positive\": 0,\n",
    "    \"prob_disasm_false_negative\": 0,\n",
    "    \"prob_disasm_true_positive\": 0,\n",
    "    \"prob_disasm_total\": 0,\n",
    "    \"linear_sweep_false_positive\": 0,\n",
    "    \"linear_sweep_false_negative\": 0,\n",
    "    \"linear_sweep_true_positive\": 0,\n",
    "    \"linear_sweep_total\": 0\n",
    "}\n",
    "\n",
    "# Count how many files\n",
    "n = len(results)\n",
    "\n",
    "# Sum up all values\n",
    "for res in results:\n",
    "    for key in total.keys():\n",
    "        total[key] += res.get(key, 0)\n",
    "\n",
    "# Now compute averages\n",
    "average = {key: (total[key] / n) for key in total}\n",
    "\n",
    "# Print neatly\n",
    "print(\"Averages across all files:\")\n",
    "for key, value in average.items():\n",
    "    print(f\"{key}: {value:.2f}\")"
   ]
  },
  {
   "cell_type": "code",
   "execution_count": null,
   "id": "766ad995-bd78-4f53-843a-9c60e526faee",
   "metadata": {},
   "outputs": [],
   "source": []
  }
 ],
 "metadata": {
  "kernelspec": {
   "display_name": "Python 3 (ipykernel)",
   "language": "python",
   "name": "python3"
  },
  "language_info": {
   "codemirror_mode": {
    "name": "ipython",
    "version": 3
   },
   "file_extension": ".py",
   "mimetype": "text/x-python",
   "name": "python",
   "nbconvert_exporter": "python",
   "pygments_lexer": "ipython3",
   "version": "3.12.2"
  }
 },
 "nbformat": 4,
 "nbformat_minor": 5
}
